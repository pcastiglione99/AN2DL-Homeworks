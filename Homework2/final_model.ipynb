{
 "cells": [
  {
   "cell_type": "code",
   "execution_count": null,
   "metadata": {
    "id": "ZJQt3KnhOOZ5"
   },
   "outputs": [],
   "source": [
    "%cd '/content/drive/MyDrive/UNI/AN2DL/Homework2/data'"
   ]
  },
  {
   "cell_type": "markdown",
   "metadata": {
    "id": "xENA2qVhNwLi"
   },
   "source": [
    "## Import libaries"
   ]
  },
  {
   "cell_type": "code",
   "execution_count": null,
   "metadata": {
    "id": "8sZHj9eINjCK"
   },
   "outputs": [],
   "source": [
    "import tensorflow as tf\n",
    "import numpy as np\n",
    "import pandas as pd\n",
    "import random\n",
    "from tensorflow import keras\n",
    "from keras import layers\n",
    "import matplotlib.pyplot as plt\n",
    "from sklearn.utils import shuffle\n",
    "import math"
   ]
  },
  {
   "cell_type": "markdown",
   "metadata": {
    "id": "Q8zq0UEpUaYD"
   },
   "source": [
    "## Split train test"
   ]
  },
  {
   "cell_type": "code",
   "execution_count": null,
   "metadata": {
    "id": "1bEKdaz3OhH3"
   },
   "outputs": [],
   "source": [
    "x = np.load('x_train.npy')\n",
    "y = np.load('y_train.npy')\n",
    "\n",
    "x, y = shuffle(x, y, random_state=0)\n",
    "\n",
    "split = math.floor(len(x)*0.75)\n",
    "\n",
    "x_train, x_val = x[:split], x[split:]\n",
    "y_train, y_val = y[:split], y[split:]"
   ]
  },
  {
   "cell_type": "markdown",
   "metadata": {
    "id": "0LTbSurkUfxK"
   },
   "source": [
    "## Visualize data"
   ]
  },
  {
   "cell_type": "markdown",
   "metadata": {
    "id": "OgBuw23QgmRg"
   },
   "source": [
    "### Histogram of the classes"
   ]
  },
  {
   "cell_type": "code",
   "execution_count": null,
   "metadata": {
    "id": "ZtDDLrcyrr1J"
   },
   "outputs": [],
   "source": [
    "plt.figure(figsize=(15,10))\n",
    "plt.hist(y,bins=12), plt.hist(y_train,bins=12), plt.hist(y_val,bins=12)\n",
    "plt.legend(['Full Dataset', 'Train', 'Validation'], prop={'size': 20})"
   ]
  },
  {
   "cell_type": "markdown",
   "metadata": {
    "id": "rJtmJtsOgp9A"
   },
   "source": [
    "### Random Samples"
   ]
  },
  {
   "cell_type": "code",
   "execution_count": null,
   "metadata": {
    "id": "QHHEuPv0Q4QC"
   },
   "outputs": [],
   "source": [
    "sample = random.randint(0,split)\n",
    "pd.DataFrame(x[sample]).plot()\n",
    "print(sample)\n",
    "print(y_train[sample])"
   ]
  },
  {
   "cell_type": "code",
   "execution_count": null,
   "metadata": {
    "id": "Mslj0r-oxAMx"
   },
   "outputs": [],
   "source": [
    "fig, axes = plt.subplots(20,figsize=(10,20))\n",
    "a = np.where(y==11)[0]\n",
    "for i, ax in enumerate(axes):\n",
    "    ax.plot((x[a[i]]))"
   ]
  },
  {
   "cell_type": "markdown",
   "metadata": {
    "id": "M84C7sEVMOuA"
   },
   "source": [
    "## Build the Model"
   ]
  },
  {
   "cell_type": "code",
   "execution_count": null,
   "metadata": {
    "id": "boBkeI39Cwvr"
   },
   "outputs": [],
   "source": [
    "x_mean = x_train.mean()\n",
    "x_var = x_train.var()"
   ]
  },
  {
   "cell_type": "code",
   "execution_count": null,
   "metadata": {
    "id": "YbD7whOacyr5"
   },
   "outputs": [],
   "source": [
    "input_shape = x_train.shape[1:]"
   ]
  },
  {
   "cell_type": "code",
   "execution_count": null,
   "metadata": {
    "id": "KmezWbkeUWJ3"
   },
   "outputs": [],
   "source": [
    "model = keras.Sequential([\n",
    "    layers.Input(input_shape),\n",
    "\n",
    "    layers.Normalization(mean=x_mean, variance=x_var),\n",
    "\n",
    "    layers.Conv1D(128, 3, padding='same', activation='relu'),\n",
    "    layers.MaxPooling1D(),\n",
    "    layers.Dropout(0.3),\n",
    "    \n",
    "    layers.Conv1D(128, 3, padding='same', activation='relu'),\n",
    "    layers.MaxPooling1D(),\n",
    "    layers.Dropout(0.3),\n",
    "\n",
    "    layers.Conv1D(128, 3, padding='same', activation='relu'),\n",
    "    layers.MaxPooling1D(),\n",
    "    layers.Dropout(0.3),\n",
    "\n",
    "    layers.Bidirectional(layers.LSTM(100, recurrent_regularizer=keras.regularizers.L1L2(1e-2, 1e-2))),\n",
    "    layers.Dropout(0.5),\n",
    "\n",
    "    layers.Dense(12, activation='softmax')\n",
    "])"
   ]
  },
  {
   "cell_type": "code",
   "execution_count": null,
   "metadata": {
    "id": "yBIcdh5ZbtHz"
   },
   "outputs": [],
   "source": [
    "model.summary()"
   ]
  },
  {
   "cell_type": "code",
   "execution_count": null,
   "metadata": {
    "id": "1kWc7z_fL-aV"
   },
   "outputs": [],
   "source": [
    "keras.utils.plot_model(model)"
   ]
  },
  {
   "cell_type": "markdown",
   "metadata": {
    "id": "3IcAOgJUMA-N"
   },
   "source": [
    "## Training"
   ]
  },
  {
   "cell_type": "code",
   "execution_count": null,
   "metadata": {
    "id": "bJ_QwTPGjD_Y"
   },
   "outputs": [],
   "source": [
    "batch_size = 64\n",
    "epochs = 100\n",
    "patience = 10"
   ]
  },
  {
   "cell_type": "code",
   "execution_count": null,
   "metadata": {
    "id": "8xfswCRuex-7"
   },
   "outputs": [],
   "source": [
    "model.compile(loss=keras.losses.SparseCategoricalCrossentropy(), optimizer=keras.optimizers.Adam(), metrics=['accuracy'])"
   ]
  },
  {
   "cell_type": "code",
   "execution_count": null,
   "metadata": {
    "id": "6e50EbYEfKt1"
   },
   "outputs": [],
   "source": [
    "history = model.fit(\n",
    "    x=x_train,\n",
    "    y=y_train,\n",
    "    batch_size=batch_size,\n",
    "    epochs=epochs,\n",
    "    validation_data=(x_val, y_val),\n",
    "    callbacks=[keras.callbacks.EarlyStopping(monitor='val_loss', patience=patience, restore_best_weights=True),\n",
    "                 keras.callbacks.ReduceLROnPlateau(monitor='val_loss', patience=5, factor=0.5, min_lr=1e-6)]\n",
    ").history"
   ]
  },
  {
   "cell_type": "code",
   "execution_count": null,
   "metadata": {
    "id": "R27UVuPtgUY0"
   },
   "outputs": [],
   "source": [
    "model.save('SubmissionModel')"
   ]
  },
  {
   "cell_type": "code",
   "execution_count": null,
   "metadata": {
    "id": "RPH0rmVzvLzM"
   },
   "outputs": [],
   "source": [
    "plt.figure(figsize=(15,5))\n",
    "plt.plot(history['loss'], label='Train', color='red')\n",
    "plt.plot(history['val_loss'], label='Validation', color='blue')\n",
    "plt.legend(loc='upper left')\n",
    "plt.title('Categorical Crossentropy')\n",
    "plt.grid(alpha=.3)\n",
    "\n",
    "plt.figure(figsize=(15,5))\n",
    "plt.plot(history['accuracy'], label='Train', color='red')\n",
    "plt.plot(history['val_accuracy'], label='Validation', color='blue')\n",
    "plt.legend(loc='upper left')\n",
    "plt.title('Accuracy')\n",
    "plt.grid(alpha=.3)\n",
    "\n",
    "plt.show()"
   ]
  }
 ],
 "metadata": {
  "accelerator": "GPU",
  "colab": {
   "provenance": []
  },
  "gpuClass": "standard",
  "kernelspec": {
   "display_name": "Python 3 (ipykernel)",
   "language": "python",
   "name": "python3"
  },
  "language_info": {
   "codemirror_mode": {
    "name": "ipython",
    "version": 3
   },
   "file_extension": ".py",
   "mimetype": "text/x-python",
   "name": "python",
   "nbconvert_exporter": "python",
   "pygments_lexer": "ipython3",
   "version": "3.10.8"
  }
 },
 "nbformat": 4,
 "nbformat_minor": 1
}
