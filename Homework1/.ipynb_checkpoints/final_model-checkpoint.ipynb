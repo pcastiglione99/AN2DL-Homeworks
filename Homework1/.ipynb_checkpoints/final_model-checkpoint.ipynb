{
 "cells": [
  {
   "cell_type": "markdown",
   "id": "3b81c974",
   "metadata": {},
   "source": [
    "# Homework1"
   ]
  },
  {
   "cell_type": "markdown",
   "id": "d9f1dcd2",
   "metadata": {},
   "source": [
    "## Import libraries"
   ]
  },
  {
   "cell_type": "code",
   "execution_count": null,
   "id": "724a7aaa",
   "metadata": {
    "_cell_guid": "b1076dfc-b9ad-4769-8c92-a6c4dae69d19",
    "_uuid": "8f2839f25d086af736a60e9eeb907d3b93b6e0e5",
    "papermill": {
     "duration": 7.6623,
     "end_time": "2022-11-20T19:59:44.115848",
     "exception": false,
     "start_time": "2022-11-20T19:59:36.453548",
     "status": "completed"
    },
    "tags": []
   },
   "outputs": [],
   "source": [
    "import tensorflow as tf\n",
    "import numpy as np\n",
    "import os\n",
    "import random\n",
    "import pandas as pd\n",
    "import matplotlib as mpl\n",
    "import matplotlib.pyplot as plt\n",
    "tfk = tf.keras\n",
    "from keras.models import Sequential\n",
    "from keras.layers import Conv2D, MaxPooling2D, GlobalAveragePooling2D, Dropout, Dense, Resizing, Rescaling"
   ]
  },
  {
   "cell_type": "markdown",
   "id": "7bc93fc6",
   "metadata": {},
   "source": [
    "## Random seed for reproducibilty"
   ]
  },
  {
   "cell_type": "code",
   "execution_count": null,
   "id": "fd3ea78a",
   "metadata": {},
   "outputs": [],
   "source": [
    "seed = 1234\n",
    "random.seed(seed)\n",
    "os.environ['PYTHONHASHSEED'] = str(seed)\n",
    "np.random.seed(seed)\n",
    "tf.random.set_seed(seed)\n",
    "tf.compat.v1.set_random_seed(seed)"
   ]
  },
  {
   "cell_type": "markdown",
   "id": "1b19e47c",
   "metadata": {},
   "source": [
    "## Data Load and Augmentation\n",
    "images were resized to 139x139 because, during development, we wrongly read that for inceptionV3 \"width and height should be no smaller than 139\" but actually the keras documentation says \"width and height should be no smaller than 75\""
   ]
  },
  {
   "cell_type": "code",
   "execution_count": null,
   "id": "fffaff42",
   "metadata": {
    "papermill": {
     "duration": 0.018843,
     "end_time": "2022-11-20T19:59:44.143039",
     "exception": false,
     "start_time": "2022-11-20T19:59:44.124196",
     "status": "completed"
    },
    "tags": []
   },
   "outputs": [],
   "source": [
    "batch_size=32\n",
    "validation_split=0.2\n",
    "data_dir = \"../input/dataset/training_data_final\""
   ]
  },
  {
   "cell_type": "code",
   "execution_count": null,
   "id": "b48955df",
   "metadata": {
    "papermill": {
     "duration": 0.452995,
     "end_time": "2022-11-20T19:59:45.125989",
     "exception": false,
     "start_time": "2022-11-20T19:59:44.672994",
     "status": "completed"
    },
    "tags": []
   },
   "outputs": [],
   "source": [
    "from tensorflow.keras.applications.inception_v3 import preprocess_input\n",
    "from tensorflow.keras.preprocessing.image import ImageDataGenerator\n",
    "\n",
    "\n",
    "train_datagen = ImageDataGenerator(rotation_range=90,\n",
    "                                   preprocessing_function=preprocess_input,\n",
    "                                   brightness_range=(0.65, 1.35),\n",
    "                                   height_shift_range=5,\n",
    "                                   width_shift_range=5,\n",
    "                                   zoom_range=0.25,\n",
    "                                   horizontal_flip=True,\n",
    "                                   vertical_flip=True, \n",
    "                                   fill_mode='reflect',\n",
    "                                   validation_split=validation_split)                                 \n",
    "\n",
    "validation_datagen = ImageDataGenerator(preprocessing_function=preprocess_input,\n",
    "                                        validation_split=validation_split)\n",
    "\n",
    "train_data = train_datagen.flow_from_directory(directory=data_dir,\n",
    "                                               target_size=(139,139), \n",
    "                                               color_mode='rgb',\n",
    "                                               batch_size=batch_size,\n",
    "                                               classes=None,\n",
    "                                               class_mode='categorical',\n",
    "                                               shuffle=True,\n",
    "                                               subset = 'training',\n",
    "                                               seed=seed\n",
    "                                              ) \n",
    "\n",
    "validation_data = validation_datagen.flow_from_directory(directory=data_dir,\n",
    "                                                        target_size=(139,139), \n",
    "                                                        color_mode='rgb',\n",
    "                                                        batch_size=batch_size,\n",
    "                                                        classes=None,\n",
    "                                                        class_mode='categorical',\n",
    "                                                        shuffle=True,\n",
    "                                                        subset = 'validation',\n",
    "                                                        seed=seed\n",
    "                                                        )"
   ]
  },
  {
   "cell_type": "markdown",
   "id": "c9ee4971",
   "metadata": {},
   "source": [
    "## Preview some samples"
   ]
  },
  {
   "cell_type": "code",
   "execution_count": null,
   "id": "f8462795",
   "metadata": {
    "papermill": {
     "duration": 0.020171,
     "end_time": "2022-11-20T19:59:45.154631",
     "exception": false,
     "start_time": "2022-11-20T19:59:45.134460",
     "status": "completed"
    },
    "tags": []
   },
   "outputs": [],
   "source": [
    "def get_next_batch(generator):\n",
    "  batch = next(generator)\n",
    "\n",
    "  image = batch[0]\n",
    "  target = batch[1]\n",
    "\n",
    "  print(\"(Input) image shape:\", image.shape)\n",
    "  print(\"Target shape:\",target.shape)\n",
    "\n",
    "  # Visualize only the first sample\n",
    "  image = image[0]*255\n",
    "  target = target[0]\n",
    "  target_idx = np.argmax(target)\n",
    "  print()\n",
    "  print(\"Categorical label:\", target)\n",
    "  print(\"Label:\", target_idx + 1)\n",
    "  print(\"Class name:\", target_idx + 1)\n",
    "  fig = plt.figure(figsize=(6, 4))\n",
    "  plt.imshow(np.uint8(image))\n",
    "\n",
    "  return batch\n"
   ]
  },
  {
   "cell_type": "code",
   "execution_count": null,
   "id": "aad40e71",
   "metadata": {
    "papermill": {
     "duration": 1.138112,
     "end_time": "2022-11-20T19:59:46.303002",
     "exception": false,
     "start_time": "2022-11-20T19:59:45.164890",
     "status": "completed"
    },
    "tags": []
   },
   "outputs": [],
   "source": [
    "trainImage = get_next_batch(train_data)[0]\n",
    "validationImage = get_next_batch(validation_data)[0]"
   ]
  },
  {
   "cell_type": "markdown",
   "id": "9b3fba84",
   "metadata": {},
   "source": [
    "## Transfer Learning"
   ]
  },
  {
   "cell_type": "code",
   "execution_count": null,
   "id": "d585176e",
   "metadata": {
    "papermill": {
     "duration": 3.127562,
     "end_time": "2022-11-20T19:59:49.443099",
     "exception": false,
     "start_time": "2022-11-20T19:59:46.315537",
     "status": "completed"
    },
    "tags": []
   },
   "outputs": [],
   "source": [
    "from tensorflow.keras.applications.inception_v3 import InceptionV3\n",
    "base_model = InceptionV3(include_top=False,\n",
    "                         weights=\"imagenet\",\n",
    "                         input_shape=(139,139,3))"
   ]
  },
  {
   "cell_type": "code",
   "execution_count": null,
   "id": "5254ea2e",
   "metadata": {
    "papermill": {
     "duration": 0.703704,
     "end_time": "2022-11-20T19:59:50.197589",
     "exception": false,
     "start_time": "2022-11-20T19:59:49.493885",
     "status": "completed"
    },
    "tags": []
   },
   "outputs": [],
   "source": [
    "tl_model = Sequential([\n",
    "    base_model,\n",
    "    GlobalAveragePooling2D(),\n",
    "    Dropout(0.5),\n",
    "    Dense(256,\n",
    "          activation='relu'),\n",
    "    Dropout(0.5),\n",
    "    Dense(256,\n",
    "          activation='relu'),\n",
    "    Dropout(0.4),\n",
    "    Dense(8, activation='softmax')\n",
    "])"
   ]
  },
  {
   "cell_type": "code",
   "execution_count": null,
   "id": "518242cc",
   "metadata": {
    "papermill": {
     "duration": 0.024686,
     "end_time": "2022-11-20T19:59:50.236411",
     "exception": false,
     "start_time": "2022-11-20T19:59:50.211725",
     "status": "completed"
    },
    "tags": []
   },
   "outputs": [],
   "source": [
    "tl_model.summary()"
   ]
  },
  {
   "cell_type": "code",
   "execution_count": null,
   "id": "e470fffc",
   "metadata": {
    "papermill": {
     "duration": 0.042159,
     "end_time": "2022-11-20T19:59:50.293233",
     "exception": false,
     "start_time": "2022-11-20T19:59:50.251074",
     "status": "completed"
    },
    "tags": []
   },
   "outputs": [],
   "source": [
    "# Freeze the first layers until 288th\n",
    "tl_model.get_layer('inception_v3').trainable = True\n",
    "for i, layer in enumerate(tl_model.get_layer('inception_v3').layers[:288]):\n",
    "  layer.trainable=False"
   ]
  },
  {
   "cell_type": "code",
   "execution_count": null,
   "id": "213cd2ef",
   "metadata": {
    "papermill": {
     "duration": 0.037517,
     "end_time": "2022-11-20T19:59:50.392062",
     "exception": false,
     "start_time": "2022-11-20T19:59:50.354545",
     "status": "completed"
    },
    "tags": []
   },
   "outputs": [],
   "source": [
    "tl_model.compile(loss=tfk.losses.CategoricalCrossentropy(),\n",
    "              optimizer=tfk.optimizers.Adam(),\n",
    "              metrics=['accuracy'])"
   ]
  },
  {
   "cell_type": "code",
   "execution_count": null,
   "id": "151a9a30",
   "metadata": {
    "papermill": {
     "duration": 0.02338,
     "end_time": "2022-11-20T19:59:50.466484",
     "exception": false,
     "start_time": "2022-11-20T19:59:50.443104",
     "status": "completed"
    },
    "tags": []
   },
   "outputs": [],
   "source": [
    "# setting the weight of the classes in order to manage the problem of imbalanced dataset\n",
    "class_weight = {0 : 2.9,\n",
    "                1 : 1.0,\n",
    "                2 : 1.0,\n",
    "                3 : 1.0,\n",
    "                4 : 1.0,\n",
    "                5 : 2.4,\n",
    "                6 : 1.0,\n",
    "                7 : 1.0}"
   ]
  },
  {
   "cell_type": "code",
   "execution_count": null,
   "id": "22647f66",
   "metadata": {
    "papermill": {
     "duration": 0.022605,
     "end_time": "2022-11-20T19:59:50.429044",
     "exception": false,
     "start_time": "2022-11-20T19:59:50.406439",
     "status": "completed"
    },
    "tags": []
   },
   "outputs": [],
   "source": [
    "early_stopping = tfk.callbacks.EarlyStopping(monitor='val_loss', patience=25, restore_best_weights=True)"
   ]
  },
  {
   "cell_type": "code",
   "execution_count": null,
   "id": "65976332",
   "metadata": {
    "papermill": {
     "duration": 13940.726937,
     "end_time": "2022-11-20T23:52:11.207347",
     "exception": false,
     "start_time": "2022-11-20T19:59:50.480410",
     "status": "completed"
    },
    "tags": []
   },
   "outputs": [],
   "source": [
    "tl_history = tl_model.fit(x= train_data,\n",
    "                    validation_data= validation_data,\n",
    "                    epochs= 200,\n",
    "                    batch_size=batch_size,\n",
    "                    class_weight = class_weight,\n",
    "                    callbacks = [early_stopping]\n",
    "                   ).history"
   ]
  },
  {
   "cell_type": "code",
   "execution_count": null,
   "id": "c3f49d13",
   "metadata": {
    "papermill": {
     "duration": 105.238442,
     "end_time": "2022-11-20T23:53:57.166973",
     "exception": false,
     "start_time": "2022-11-20T23:52:11.928531",
     "status": "completed"
    },
    "tags": []
   },
   "outputs": [],
   "source": [
    "tl_model.save('tl_model')"
   ]
  },
  {
   "cell_type": "code",
   "execution_count": null,
   "id": "47bd2d4f",
   "metadata": {
    "papermill": {
     "duration": 1.294728,
     "end_time": "2022-11-20T23:53:59.196948",
     "exception": false,
     "start_time": "2022-11-20T23:53:57.902220",
     "status": "completed"
    },
    "tags": []
   },
   "outputs": [],
   "source": [
    "# Plot the training\n",
    "plt.figure(figsize=(20,5))\n",
    "plt.plot(tl_history['loss'], label='Training', alpha=.8, color='#ff7f0e')\n",
    "plt.plot(tl_history['val_loss'], label='Validation', alpha=.8, color='#4D61E2')\n",
    "plt.legend(loc='upper left')\n",
    "plt.title('Crossentropy')\n",
    "plt.grid(alpha=.3)\n",
    "\n",
    "plt.figure(figsize=(20,5))\n",
    "plt.plot(tl_history['accuracy'], label='Training', alpha=.8, color='#ff7f0e')\n",
    "plt.plot(tl_history['val_accuracy'], label='Validation', alpha=.8, color='#4D61E2')\n",
    "plt.legend(loc='upper left')\n",
    "plt.title('Accuracy')\n",
    "plt.grid(alpha=.3)\n",
    "\n",
    "plt.show()"
   ]
  },
  {
   "cell_type": "code",
   "execution_count": null,
   "id": "db817a9e",
   "metadata": {
    "papermill": {
     "duration": 0.731272,
     "end_time": "2022-11-20T23:54:00.807267",
     "exception": false,
     "start_time": "2022-11-20T23:54:00.075995",
     "status": "completed"
    },
    "tags": []
   },
   "outputs": [],
   "source": [
    "del tl_model"
   ]
  },
  {
   "cell_type": "markdown",
   "id": "807f6a3e",
   "metadata": {},
   "source": [
    "## Partial Fine Tuning"
   ]
  },
  {
   "cell_type": "code",
   "execution_count": null,
   "id": "148740c8",
   "metadata": {
    "papermill": {
     "duration": 23.250152,
     "end_time": "2022-11-20T23:54:24.791936",
     "exception": false,
     "start_time": "2022-11-20T23:54:01.541784",
     "status": "completed"
    },
    "tags": []
   },
   "outputs": [],
   "source": [
    "ft_model = tfk.models.load_model('tl_model')"
   ]
  },
  {
   "cell_type": "code",
   "execution_count": null,
   "id": "237e78d9",
   "metadata": {
    "papermill": {
     "duration": 0.828482,
     "end_time": "2022-11-20T23:54:26.380998",
     "exception": false,
     "start_time": "2022-11-20T23:54:25.552516",
     "status": "completed"
    },
    "tags": []
   },
   "outputs": [],
   "source": [
    "# Set all InceptionV3 layers to True\n",
    "ft_model.get_layer('inception_v3').trainable = True"
   ]
  },
  {
   "cell_type": "code",
   "execution_count": null,
   "id": "f12b562b",
   "metadata": {
    "papermill": {
     "duration": 0.93713,
     "end_time": "2022-11-20T23:54:28.070603",
     "exception": false,
     "start_time": "2022-11-20T23:54:27.133473",
     "status": "completed"
    },
    "tags": []
   },
   "outputs": [],
   "source": [
    "# Freeze the first layers until 215th\n",
    "for i, layer in enumerate(ft_model.get_layer('inception_v3').layers[:215]):\n",
    "  layer.trainable=False"
   ]
  },
  {
   "cell_type": "code",
   "execution_count": null,
   "id": "96a20b50",
   "metadata": {
    "papermill": {
     "duration": 0.9054,
     "end_time": "2022-11-20T23:54:29.706685",
     "exception": false,
     "start_time": "2022-11-20T23:54:28.801285",
     "status": "completed"
    },
    "tags": []
   },
   "outputs": [],
   "source": [
    "# Compile the model\n",
    "ft_model.compile(loss=tfk.losses.CategoricalCrossentropy(),\n",
    "                 optimizer=tfk.optimizers.Adam(8e-4),\n",
    "                 metrics=['accuracy'])"
   ]
  },
  {
   "cell_type": "code",
   "execution_count": null,
   "id": "96dd92c9",
   "metadata": {
    "papermill": {
     "duration": 4988.850481,
     "end_time": "2022-11-21T01:17:39.263203",
     "exception": false,
     "start_time": "2022-11-20T23:54:30.412722",
     "status": "completed"
    },
    "tags": []
   },
   "outputs": [],
   "source": [
    "# Fine-tune the model\n",
    "ft_history = ft_model.fit(\n",
    "    x = train_data,\n",
    "    validation_data = validation_data,\n",
    "    batch_size = batch_size,\n",
    "    class_weight = class_weight,\n",
    "    epochs = 100,\n",
    "    callbacks = [tfk.callbacks.EarlyStopping(monitor='val_loss', patience=15, restore_best_weights=True)]\n",
    ").history"
   ]
  },
  {
   "cell_type": "code",
   "execution_count": null,
   "id": "0b424e70",
   "metadata": {
    "papermill": {
     "duration": 59.391237,
     "end_time": "2022-11-21T01:18:39.609181",
     "exception": false,
     "start_time": "2022-11-21T01:17:40.217944",
     "status": "completed"
    },
    "tags": []
   },
   "outputs": [],
   "source": [
    "ft_model.save('ft_model')"
   ]
  },
  {
   "cell_type": "code",
   "execution_count": null,
   "id": "e41a0da4",
   "metadata": {
    "papermill": {
     "duration": 1.496673,
     "end_time": "2022-11-21T01:18:42.081328",
     "exception": false,
     "start_time": "2022-11-21T01:18:40.584655",
     "status": "completed"
    },
    "tags": []
   },
   "outputs": [],
   "source": [
    "# Plot the training\n",
    "plt.figure(figsize=(15,5))\n",
    "plt.plot(tl_history['loss'], alpha=.3, color='#4D61E2', linestyle='--')\n",
    "plt.plot(tl_history['val_loss'], label='Transfer Learning', alpha=.8, color='#4D61E2')\n",
    "\n",
    "plt.plot(ft_history['loss'], alpha=.3, color='#2ABC3D', linestyle='--')\n",
    "plt.plot(ft_history['val_loss'], label='Fine Tuning', alpha=.8, color='#2ABC3D')\n",
    "\n",
    "plt.legend(loc='upper left')\n",
    "plt.title('Categorical Crossentropy')\n",
    "plt.grid(alpha=.3)\n",
    "\n",
    "plt.figure(figsize=(15,5))\n",
    "plt.plot(tl_history['accuracy'], alpha=.3, color='#4D61E2', linestyle='--')\n",
    "plt.plot(tl_history['val_accuracy'], label='Transfer Learning', alpha=.8, color='#4D61E2')\n",
    "\n",
    "plt.plot(ft_history['accuracy'], alpha=.3, color='#2ABC3D', linestyle='--')\n",
    "plt.plot(ft_history['val_accuracy'], label='Fine Tuning', alpha=.8, color='#2ABC3D')\n",
    "\n",
    "plt.legend(loc='upper left')\n",
    "plt.title('Accuracy')\n",
    "plt.grid(alpha=.3)\n",
    "\n",
    "plt.show()"
   ]
  },
  {
   "cell_type": "code",
   "execution_count": null,
   "id": "e64a4166",
   "metadata": {
    "papermill": {
     "duration": 0.928645,
     "end_time": "2022-11-21T01:18:44.114318",
     "exception": false,
     "start_time": "2022-11-21T01:18:43.185673",
     "status": "completed"
    },
    "tags": []
   },
   "outputs": [],
   "source": [
    "del ft_model"
   ]
  },
  {
   "cell_type": "markdown",
   "id": "b35e3672",
   "metadata": {},
   "source": [
    "## Full Fine Tuning"
   ]
  },
  {
   "cell_type": "code",
   "execution_count": null,
   "id": "b3dcab16",
   "metadata": {
    "papermill": {
     "duration": 21.114391,
     "end_time": "2022-11-21T01:19:06.191029",
     "exception": false,
     "start_time": "2022-11-21T01:18:45.076638",
     "status": "completed"
    },
    "tags": []
   },
   "outputs": [],
   "source": [
    "full_model = tfk.models.load_model('ft_model')"
   ]
  },
  {
   "cell_type": "code",
   "execution_count": null,
   "id": "d412d276",
   "metadata": {
    "papermill": {
     "duration": 1.009412,
     "end_time": "2022-11-21T01:19:08.167056",
     "exception": false,
     "start_time": "2022-11-21T01:19:07.157644",
     "status": "completed"
    },
    "tags": []
   },
   "outputs": [],
   "source": [
    "# Set all InceptionV3 layers to True\n",
    "full_model.get_layer('inception_v3').trainable = True"
   ]
  },
  {
   "cell_type": "code",
   "execution_count": null,
   "id": "cfb24c97",
   "metadata": {
    "papermill": {
     "duration": 1.080582,
     "end_time": "2022-11-21T01:19:12.208919",
     "exception": false,
     "start_time": "2022-11-21T01:19:11.128337",
     "status": "completed"
    },
    "tags": []
   },
   "outputs": [],
   "source": [
    "full_model.summary()"
   ]
  },
  {
   "cell_type": "code",
   "execution_count": null,
   "id": "ad6b08d9",
   "metadata": {
    "papermill": {
     "duration": 0.949933,
     "end_time": "2022-11-21T01:19:14.106851",
     "exception": false,
     "start_time": "2022-11-21T01:19:13.156918",
     "status": "completed"
    },
    "tags": []
   },
   "outputs": [],
   "source": [
    "# Compile the model\n",
    "full_model.compile(loss=tfk.losses.CategoricalCrossentropy(),\n",
    "                 optimizer=tfk.optimizers.Adam(4e-5),\n",
    "                 metrics=['accuracy'])"
   ]
  },
  {
   "cell_type": "code",
   "execution_count": null,
   "id": "a7bb808f",
   "metadata": {
    "papermill": {
     "duration": 9790.115223,
     "end_time": "2022-11-21T04:02:25.261324",
     "exception": false,
     "start_time": "2022-11-21T01:19:15.146101",
     "status": "completed"
    },
    "tags": []
   },
   "outputs": [],
   "source": [
    "# Fine-tune the model\n",
    "full_history = full_model.fit(\n",
    "    x = train_data,\n",
    "    batch_size = batch_size,\n",
    "    epochs = 40,\n",
    "    validation_data = validation_data,\n",
    "    callbacks = [tfk.callbacks.EarlyStopping(monitor='val_loss', patience=15, restore_best_weights=True)]\n",
    ").history"
   ]
  },
  {
   "cell_type": "code",
   "execution_count": null,
   "id": "1303a4ac",
   "metadata": {
    "papermill": {
     "duration": 58.24774,
     "end_time": "2022-11-21T04:03:24.782849",
     "exception": false,
     "start_time": "2022-11-21T04:02:26.535109",
     "status": "completed"
    },
    "tags": []
   },
   "outputs": [],
   "source": [
    "full_model.save('full_model')"
   ]
  },
  {
   "cell_type": "markdown",
   "id": "99207654",
   "metadata": {},
   "source": [
    "## Final Plots"
   ]
  },
  {
   "cell_type": "code",
   "execution_count": null,
   "id": "638ce732",
   "metadata": {
    "papermill": {
     "duration": 1.860493,
     "end_time": "2022-11-21T04:03:27.835918",
     "exception": false,
     "start_time": "2022-11-21T04:03:25.975425",
     "status": "completed"
    },
    "tags": []
   },
   "outputs": [],
   "source": [
    "# Plot the training\n",
    "plt.figure(figsize=(15,5))\n",
    "\n",
    "\n",
    "plt.plot(tl_history['loss'], alpha=.3, color='#4D61E2', linestyle='--')\n",
    "plt.plot(tl_history['val_loss'], label='Transfer Learning', alpha=.8, color='#4D61E2')\n",
    "\n",
    "plt.plot(ft_history['loss'], alpha=.3, color='#2ABC3D', linestyle='--')\n",
    "plt.plot(ft_history['val_loss'], label='Fine Tuning', alpha=.8, color='#2ABC3D')\n",
    "\n",
    "plt.plot(full_history['loss'], alpha=.3, color='#FFA500', linestyle='--')\n",
    "plt.plot(full_history['val_loss'], label='Full Fine Tuning', alpha=.8, color='#FFA500')\n",
    "\n",
    "\n",
    "plt.legend(loc='upper left')\n",
    "plt.title('Categorical Crossentropy')\n",
    "plt.grid(alpha=.3)\n",
    "\n",
    "plt.figure(figsize=(15,5))\n",
    "\n",
    "\n",
    "plt.plot(tl_history['accuracy'], alpha=.3, color='#4D61E2', linestyle='--')\n",
    "plt.plot(tl_history['val_accuracy'], label='Transfer Learning', alpha=.8, color='#4D61E2')\n",
    "\n",
    "plt.plot(ft_history['accuracy'], alpha=.3, color='#2ABC3D', linestyle='--')\n",
    "plt.plot(ft_history['val_accuracy'], label='Fine Tuning', alpha=.8, color='#2ABC3D')\n",
    "\n",
    "plt.plot(full_history['accuracy'], alpha=.3, color='#FFA500', linestyle='--')\n",
    "plt.plot(full_history['val_accuracy'], label='Full Fine Tuning', alpha=.8, color='#FFA500')\n",
    "\n",
    "\n",
    "plt.legend(loc='upper left')\n",
    "plt.title('Accuracy')\n",
    "plt.grid(alpha=.3)\n",
    "\n",
    "plt.show()"
   ]
  }
 ],
 "metadata": {
  "kernelspec": {
   "display_name": "Python 3 (ipykernel)",
   "language": "python",
   "name": "python3"
  },
  "language_info": {
   "codemirror_mode": {
    "name": "ipython",
    "version": 3
   },
   "file_extension": ".py",
   "mimetype": "text/x-python",
   "name": "python",
   "nbconvert_exporter": "python",
   "pygments_lexer": "ipython3",
   "version": "3.11.3"
  },
  "papermill": {
   "default_parameters": {},
   "duration": 29046.428792,
   "end_time": "2022-11-21T04:03:32.016227",
   "environment_variables": {},
   "exception": null,
   "input_path": "__notebook__.ipynb",
   "output_path": "__notebook__.ipynb",
   "parameters": {},
   "start_time": "2022-11-20T19:59:25.587435",
   "version": "2.3.4"
  }
 },
 "nbformat": 4,
 "nbformat_minor": 5
}
